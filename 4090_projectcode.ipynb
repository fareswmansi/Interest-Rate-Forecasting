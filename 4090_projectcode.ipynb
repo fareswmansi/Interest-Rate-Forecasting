{
  "nbformat": 4,
  "nbformat_minor": 0,
  "metadata": {
    "colab": {
      "provenance": []
    },
    "kernelspec": {
      "name": "python3",
      "display_name": "Python 3"
    },
    "language_info": {
      "name": "python"
    }
  },
  "cells": [
    {
      "cell_type": "code",
      "execution_count": null,
      "metadata": {
        "id": "ktuAi0Oohxro"
      },
      "outputs": [],
      "source": [
        "import numpy as np\n",
        "import matplotlib.pyplot as plt\n",
        "import pandas as pd"
      ]
    },
    {
      "cell_type": "code",
      "source": [
        "#iterates forward a single step in time, computes interest rate\n",
        "def vasicek_euler(T, N, r_0, theta, mu, sigma):\n",
        "  dt = T/N\n",
        "  Z = np.random.normal(0, 1)\n",
        "  r_next = r_0 + theta*(mu - r_0)*dt + sigma*np.sqrt(dt)*Z\n",
        "  return r_next"
      ],
      "metadata": {
        "id": "u2t_kCiv_orH"
      },
      "execution_count": null,
      "outputs": []
    },
    {
      "cell_type": "code",
      "source": [
        "#creates a single path of interest rates for t between 0 and T\n",
        "def vasicek_path(T, N, r_0, theta, mu, sigma):\n",
        "  interest_rates = [r_0]\n",
        "  for i in range(N):\n",
        "    interest_rates.append(vasicek_euler(T, N, interest_rates[-1], theta, mu, sigma))\n",
        "  return interest_rates"
      ],
      "metadata": {
        "id": "7aAsqEPAPL4P"
      },
      "execution_count": null,
      "outputs": []
    },
    {
      "cell_type": "code",
      "source": [
        "#runs vasicek_path functions M times\n",
        "def MC_vasicek(T, N, r_0, theta, mu, sigma, num_simulations):\n",
        "  all_simulations = np.zeros((num_simulations, N+1))\n",
        "  for i in range(num_simulations):\n",
        "    all_simulations[i, :] = vasicek_path(T, N, r_0, theta, mu, sigma)\n",
        "  return all_simulations"
      ],
      "metadata": {
        "id": "sj2pxI1bQGGL"
      },
      "execution_count": null,
      "outputs": []
    },
    {
      "cell_type": "code",
      "source": [
        "#plots the multiple paths generated from MC_vasicek\n",
        "def plot_MC_vasicek(T, N, r_0, theta, mu, sigma, num_simulations):\n",
        "    all_simulations = MC_vasicek(T, N, r_0, theta, mu, sigma, num_simulations)\n",
        "    time_steps = np.linspace(0, T, N+1)\n",
        "\n",
        "    plt.figure(figsize=(10, 6))\n",
        "\n",
        "    for i in range(num_simulations):\n",
        "        plt.plot(time_steps, all_simulations[i, :], alpha=0.6, linewidth=1)\n",
        "\n",
        "    mean_path = np.mean(all_simulations, axis=0)\n",
        "    plt.plot(time_steps, mean_path, color=\"black\", linewidth=2, label=\"Mean Path\")\n",
        "\n",
        "    plt.xlabel(\"Time (Years)\")\n",
        "    plt.ylabel(\"Interest Rate\")\n",
        "    plt.title(f\"Monte Carlo Simulation of Vasicek Model ({num_simulations} Paths)\")\n",
        "    plt.legend()\n",
        "    plt.grid(True, linestyle=\"--\", alpha=0.5)\n",
        "    plt.show()"
      ],
      "metadata": {
        "id": "YyW6RcE3RMut"
      },
      "execution_count": null,
      "outputs": []
    },
    {
      "cell_type": "code",
      "source": [
        "#make histogram of final interest rates over an array of simulations\n",
        "def plot_final_distribution(simulations):\n",
        "    final_rates = simulations[:, -1]\n",
        "    plt.figure(figsize=(8, 5))\n",
        "    plt.hist(final_rates, bins=30, density=True, alpha=0.6, color='b', edgecolor='black')\n",
        "    plt.xlabel('Final Interest Rate')\n",
        "    plt.ylabel('Density')\n",
        "    plt.title('Distribution of Final Interest Rates')\n",
        "    plt.grid(True)\n",
        "    plt.show()"
      ],
      "metadata": {
        "id": "oW0BnzqmYWXA"
      },
      "execution_count": null,
      "outputs": []
    },
    {
      "cell_type": "code",
      "source": [
        "#get key metrics from simulations (mean, variance, sd)\n",
        "def analyze_MC_vasicek(MC_results):\n",
        "    final_rates = MC_results[:, -1]\n",
        "    mean_final = np.mean(final_rates)\n",
        "    variance_final = np.var(final_rates)\n",
        "    std_dev_final = np.std(final_rates)\n",
        "    return {\n",
        "        \"Mean Final Rate\": mean_final,\n",
        "        \"Variance\": variance_final,\n",
        "        \"Standard Deviation\": std_dev_final\n",
        "    }"
      ],
      "metadata": {
        "id": "QFLcA_D2uIzW"
      },
      "execution_count": null,
      "outputs": []
    },
    {
      "cell_type": "markdown",
      "source": [],
      "metadata": {
        "id": "0lIaWk2gP1eK"
      }
    },
    {
      "cell_type": "code",
      "source": [
        "all_simulations = MC_vasicek(1, 365, 0.05, 0.2475, 0.0325, 0.0064, 10000)\n",
        "\n",
        "analyze_MC_vasicek(all_simulations)\n",
        "plot_final_distribution(all_simulations)"
      ],
      "metadata": {
        "colab": {
          "base_uri": "https://localhost:8080/",
          "height": 487
        },
        "id": "l7Hzz1DaQR1E",
        "outputId": "ad49d096-6474-422c-827e-8f3087404e05"
      },
      "execution_count": null,
      "outputs": [
        {
          "output_type": "display_data",
          "data": {
            "text/plain": [
              "<Figure size 800x500 with 1 Axes>"
            ],
            "image/png": "[encoded data removed]"
          },
          "metadata": {}
        }
      ]
    }
  ]
}